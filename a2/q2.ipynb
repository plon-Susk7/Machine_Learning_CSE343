{
 "cells": [
  {
   "cell_type": "code",
   "execution_count": 1,
   "id": "9c23637a-1836-47c9-8268-88d1c266020d",
   "metadata": {},
   "outputs": [],
   "source": [
    "import numpy as np\n",
    "import pandas as pd"
   ]
  },
  {
   "cell_type": "code",
   "execution_count": 3,
   "id": "bd7a1275-a151-4f6f-b4bc-e4b3e76caf58",
   "metadata": {},
   "outputs": [],
   "source": [
    "df = pd.read_csv('../processed.cleveland.data')"
   ]
  },
  {
   "cell_type": "markdown",
   "id": "08891126-a990-47fc-85e4-a858e2372bf3",
   "metadata": {},
   "source": [
    "7. Attribute Information:\n",
    "   -- Only 14 used\n",
    "      -- 1. #3  (age)       \n",
    "      -- 2. #4  (sex)       \n",
    "      -- 3. #9  (cp)        \n",
    "      -- 4. #10 (trestbps)  \n",
    "      -- 5. #12 (chol)      \n",
    "      -- 6. #16 (fbs)       \n",
    "      -- 7. #19 (restecg)   \n",
    "      -- 8. #32 (thalach)   \n",
    "      -- 9. #38 (exang)     \n",
    "      -- 10. #40 (oldpeak)   \n",
    "      -- 11. #41 (slope)     \n",
    "      -- 12. #44 (ca)        \n",
    "      -- 13. #51 (thal)      \n",
    "      -- 14. #58 (num)       (the predicted attribute)\n"
   ]
  },
  {
   "cell_type": "code",
   "execution_count": 10,
   "id": "bdcb9b86-c001-42af-a508-7d1ded075fb7",
   "metadata": {},
   "outputs": [
    {
     "data": {
      "text/plain": [
       "age          41\n",
       "sex           2\n",
       "cp            4\n",
       "trestbps     50\n",
       "chol        152\n",
       "fbs           2\n",
       "restecg       3\n",
       "thalach      91\n",
       "exang         2\n",
       "oldpeak      40\n",
       "slope         3\n",
       "ca            5\n",
       "thal          4\n",
       "num           5\n",
       "dtype: int64"
      ]
     },
     "execution_count": 10,
     "metadata": {},
     "output_type": "execute_result"
    }
   ],
   "source": [
    "df.columns = ['age','sex','cp','trestbps','chol','fbs','restecg','thalach','exang','oldpeak','slope','ca','thal','num']\n",
    "\n",
    "df.nunique()\n"
   ]
  },
  {
   "cell_type": "code",
   "execution_count": 11,
   "id": "180b2145-cb92-4a87-81f7-1bee21158112",
   "metadata": {},
   "outputs": [],
   "source": [
    "data = df.to_numpy()"
   ]
  },
  {
   "cell_type": "code",
   "execution_count": 12,
   "id": "8154f87d-f0c7-4c3f-82dd-11e74599af39",
   "metadata": {},
   "outputs": [
    {
     "data": {
      "text/plain": [
       "(302, 14)"
      ]
     },
     "execution_count": 12,
     "metadata": {},
     "output_type": "execute_result"
    }
   ],
   "source": [
    "data.shape"
   ]
  },
  {
   "cell_type": "code",
   "execution_count": null,
   "id": "168655bd-926a-4f4b-b267-1aed56d55d29",
   "metadata": {},
   "outputs": [],
   "source": []
  }
 ],
 "metadata": {
  "kernelspec": {
   "display_name": "Python 3 (ipykernel)",
   "language": "python",
   "name": "python3"
  },
  "language_info": {
   "codemirror_mode": {
    "name": "ipython",
    "version": 3
   },
   "file_extension": ".py",
   "mimetype": "text/x-python",
   "name": "python",
   "nbconvert_exporter": "python",
   "pygments_lexer": "ipython3",
   "version": "3.10.12"
  }
 },
 "nbformat": 4,
 "nbformat_minor": 5
}
